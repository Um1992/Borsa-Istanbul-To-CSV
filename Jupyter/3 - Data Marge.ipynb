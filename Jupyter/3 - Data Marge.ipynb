{
 "cells": [
  {
   "cell_type": "code",
   "execution_count": 4,
   "id": "67e609b0-f6f5-46d2-a901-fc5cf8bdb66d",
   "metadata": {},
   "outputs": [],
   "source": [
    "import glob, os\n",
    "import pandas as pd\n",
    "\n",
    "csvList = glob.glob(os.path.join(\"History Data\", \"*.csv\"))\n",
    "merged = pd.DataFrame()"
   ]
  },
  {
   "cell_type": "code",
   "execution_count": 5,
   "id": "334954cf-d544-4858-b85d-bf8eb0b0852a",
   "metadata": {},
   "outputs": [
    {
     "name": "stdout",
     "output_type": "stream",
     "text": [
      "BRLSM\n",
      "BUCIM\n",
      "ANHYT\n",
      "BASGZ\n",
      "AYGAZ\n",
      "BIENY\n",
      "ASELS\n",
      "ALBRK\n",
      "AKFYE\n",
      "BRSAN\n",
      "AEFES\n",
      "AKGRT\n",
      "ANSGR\n",
      "BRISA\n",
      "AVPGY\n",
      "AKSEN\n",
      "ATAKP\n",
      "BFREN\n",
      "BRYAT\n",
      "ASGYO\n",
      "ARCLK\n",
      "BOBET\n",
      "A1CAP\n",
      "BIOEN\n",
      "ALFAS\n",
      "ADEL\n",
      "BTCIM\n",
      "BIMAS\n",
      "BAGFS\n",
      "AGESA\n",
      "ASUZU\n",
      "ALKIM\n",
      "AYDEM\n",
      "AKCNS\n",
      "AHGAZ\n",
      "AFYON\n",
      "BORSK\n",
      "ALGYO\n",
      "BERA\n",
      "AGHOL\n",
      "ADGYO\n",
      "AKFGY\n",
      "AKBNK\n",
      "AKSGY\n",
      "ASTOR\n",
      "ALARK\n",
      "AGROT\n",
      "BORLS\n",
      "ADESE\n",
      "AKSA\n",
      "ATATP\n",
      "BEGYO\n",
      "AZTEK\n",
      "ALCTL\n",
      "ARDYZ\n"
     ]
    }
   ],
   "source": [
    "for i in csvList:\n",
    "    print(i.format(i)[13:][:-7])\n",
    "    ticker = pd.read_csv(i)\n",
    "    ticker = ticker.rename(columns={\"Close\":\"{}\".format(i)[13:][:-7]})\n",
    "    ticker.set_index(\"Date\")\n",
    "    merged = merged.join(ticker.set_index([\"Date\"]),how=\"outer\")\n",
    "\n",
    "    merged.to_csv(\"MergedData.csv\")"
   ]
  },
  {
   "cell_type": "code",
   "execution_count": null,
   "id": "d79a71e0-bc96-43e4-a2f4-74b30ea2e132",
   "metadata": {},
   "outputs": [],
   "source": []
  }
 ],
 "metadata": {
  "kernelspec": {
   "display_name": "Python 3 (ipykernel)",
   "language": "python",
   "name": "python3"
  },
  "language_info": {
   "codemirror_mode": {
    "name": "ipython",
    "version": 3
   },
   "file_extension": ".py",
   "mimetype": "text/x-python",
   "name": "python",
   "nbconvert_exporter": "python",
   "pygments_lexer": "ipython3",
   "version": "3.10.12"
  }
 },
 "nbformat": 4,
 "nbformat_minor": 5
}
