{
 "cells": [
  {
   "cell_type": "code",
   "execution_count": 1,
   "id": "80e6f0fc-43f3-4481-b600-97c28ed06660",
   "metadata": {},
   "outputs": [],
   "source": [
    "import requests\n",
    "from bs4 import BeautifulSoup\n",
    "import pandas as pd"
   ]
  },
  {
   "cell_type": "code",
   "execution_count": 2,
   "id": "6082d639-9fef-481b-9f3c-589e4e02829f",
   "metadata": {},
   "outputs": [],
   "source": [
    "URL = \"https://www.kap.org.tr/en/Pazarlar\"\n",
    "page = requests.get(URL).text\n",
    "pagebs = BeautifulSoup(page, \"lxml\")"
   ]
  },
  {
   "cell_type": "code",
   "execution_count": 3,
   "id": "eb2aafa8-ddfd-4ae6-9e57-c9e038040f9b",
   "metadata": {},
   "outputs": [],
   "source": [
    "tickers = []\n",
    "for i in pagebs.find(\"div\", attrs={\"class\":\"column-type7 wmargin\"}).find_all(\"div\", attrs={\"class\" : \"comp-cell _02 vtable\"}):\n",
    " ticker = i.text.replace('\\n', ' ').strip()\n",
    " tickers.append(ticker+\".IS\")"
   ]
  },
  {
   "cell_type": "code",
   "execution_count": 4,
   "id": "8ca2de1d-2ed3-4752-a8e9-3c1fc5a87116",
   "metadata": {},
   "outputs": [],
   "source": [
    "tl = pd.DataFrame(tickers)\n",
    "tl.to_csv(\"Tickers.csv\", index=False, header=False)"
   ]
  },
  {
   "cell_type": "code",
   "execution_count": null,
   "id": "234d65e3-c28f-4800-9d04-caa56c20306a",
   "metadata": {},
   "outputs": [],
   "source": []
  }
 ],
 "metadata": {
  "kernelspec": {
   "display_name": "Python 3 (ipykernel)",
   "language": "python",
   "name": "python3"
  },
  "language_info": {
   "codemirror_mode": {
    "name": "ipython",
    "version": 3
   },
   "file_extension": ".py",
   "mimetype": "text/x-python",
   "name": "python",
   "nbconvert_exporter": "python",
   "pygments_lexer": "ipython3",
   "version": "3.10.12"
  }
 },
 "nbformat": 4,
 "nbformat_minor": 5
}
